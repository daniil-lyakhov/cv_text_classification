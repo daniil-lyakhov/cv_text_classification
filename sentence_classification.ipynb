{
 "cells": [
  {
   "cell_type": "markdown",
   "metadata": {},
   "source": [
    "# Sentence classification\n",
    "\n",
    "The task is: given vacancy text in a format of list\n",
    " of sentences. Classifier should predict either given sentence contains requirements\n",
    " for the applicant (class 1) or not (class 0).\n",
    " 12k sentences from the list of vacancies were labeled by efforts of Danya Lyakhov.\n",
    " He used active learning approach to label sentences faster: he was choosing basis sentences which was clearly\n",
    " belong certain class and then was clustering sentences using Bert model embeddings as feature to cluster.\n",
    " After that he was taking certain amount of similar sentences (usually 300) and was manually checking\n",
    " is this sentences contains working demands or not.\n",
    " Usually almost all the similar sentences were the same class, but some outlayers were filtered manually.\n",
    " Besides, dataset contains only working conditions description was found and used as\n",
    " set of sentences with class 0 (not contains requirements)."
   ]
  },
  {
   "cell_type": "code",
   "execution_count": 274,
   "metadata": {},
   "outputs": [],
   "source": [
    "!pip install pandas nltk bokeh numpy gensim -q"
   ]
  },
  {
   "cell_type": "code",
   "execution_count": 1,
   "metadata": {},
   "outputs": [],
   "source": [
    "import pandas as pd\n",
    "import matplotlib.pyplot as plt\n",
    "import numpy as np\n",
    "%matplotlib inline\n",
    "%load_ext tensorboard"
   ]
  },
  {
   "cell_type": "code",
   "execution_count": 2,
   "metadata": {
    "pycharm": {
     "name": "#%%\n"
    }
   },
   "outputs": [],
   "source": [
    "path = './jp.csv'\n",
    "df = pd.read_csv(path)"
   ]
  },
  {
   "cell_type": "markdown",
   "metadata": {},
   "source": [
    "## Watch data a bit"
   ]
  },
  {
   "cell_type": "code",
   "execution_count": 3,
   "metadata": {},
   "outputs": [
    {
     "data": {
      "text/html": [
       "<div>\n",
       "<style scoped>\n",
       "    .dataframe tbody tr th:only-of-type {\n",
       "        vertical-align: middle;\n",
       "    }\n",
       "\n",
       "    .dataframe tbody tr th {\n",
       "        vertical-align: top;\n",
       "    }\n",
       "\n",
       "    .dataframe thead th {\n",
       "        text-align: right;\n",
       "    }\n",
       "</style>\n",
       "<table border=\"1\" class=\"dataframe\">\n",
       "  <thead>\n",
       "    <tr style=\"text-align: right;\">\n",
       "      <th></th>\n",
       "      <th>Unnamed: 0</th>\n",
       "      <th>sentence</th>\n",
       "      <th>label</th>\n",
       "      <th>score</th>\n",
       "    </tr>\n",
       "  </thead>\n",
       "  <tbody>\n",
       "    <tr>\n",
       "      <th>0</th>\n",
       "      <td>0</td>\n",
       "      <td>Solid Knowledge of statistical analysis (regre...</td>\n",
       "      <td>1.0</td>\n",
       "      <td>0.818636</td>\n",
       "    </tr>\n",
       "    <tr>\n",
       "      <th>1</th>\n",
       "      <td>1</td>\n",
       "      <td>Drive actions at scale using scientifically-ba...</td>\n",
       "      <td>1.0</td>\n",
       "      <td>0.806346</td>\n",
       "    </tr>\n",
       "    <tr>\n",
       "      <th>2</th>\n",
       "      <td>2</td>\n",
       "      <td>Candidate must be a self-starting, highly moti...</td>\n",
       "      <td>1.0</td>\n",
       "      <td>1.000000</td>\n",
       "    </tr>\n",
       "    <tr>\n",
       "      <th>3</th>\n",
       "      <td>3</td>\n",
       "      <td>)..Experience with cloud technologies and AWS....</td>\n",
       "      <td>1.0</td>\n",
       "      <td>0.812862</td>\n",
       "    </tr>\n",
       "    <tr>\n",
       "      <th>4</th>\n",
       "      <td>4</td>\n",
       "      <td>Is familiar with disciplines such as Natural L...</td>\n",
       "      <td>1.0</td>\n",
       "      <td>0.563148</td>\n",
       "    </tr>\n",
       "    <tr>\n",
       "      <th>...</th>\n",
       "      <td>...</td>\n",
       "      <td>...</td>\n",
       "      <td>...</td>\n",
       "      <td>...</td>\n",
       "    </tr>\n",
       "    <tr>\n",
       "      <th>24774</th>\n",
       "      <td>24774</td>\n",
       "      <td>Minimum 1 year of experience in a correspondin...</td>\n",
       "      <td>1.0</td>\n",
       "      <td>0.000000</td>\n",
       "    </tr>\n",
       "    <tr>\n",
       "      <th>24775</th>\n",
       "      <td>24775</td>\n",
       "      <td>- University degree in Computer Sciences or a ...</td>\n",
       "      <td>1.0</td>\n",
       "      <td>0.000000</td>\n",
       "    </tr>\n",
       "    <tr>\n",
       "      <th>24776</th>\n",
       "      <td>24776</td>\n",
       "      <td>Experience should include writing complex quer...</td>\n",
       "      <td>1.0</td>\n",
       "      <td>0.000000</td>\n",
       "    </tr>\n",
       "    <tr>\n",
       "      <th>24777</th>\n",
       "      <td>24777</td>\n",
       "      <td>NET Framework and ADO.NET; - Knowledgeof Web S...</td>\n",
       "      <td>1.0</td>\n",
       "      <td>0.000000</td>\n",
       "    </tr>\n",
       "    <tr>\n",
       "      <th>24778</th>\n",
       "      <td>24778</td>\n",
       "      <td>Math/ Physics/ EE or related field, PhD is pre...</td>\n",
       "      <td>1.0</td>\n",
       "      <td>0.000000</td>\n",
       "    </tr>\n",
       "  </tbody>\n",
       "</table>\n",
       "<p>24779 rows × 4 columns</p>\n",
       "</div>"
      ],
      "text/plain": [
       "       Unnamed: 0                                           sentence  label  \\\n",
       "0               0  Solid Knowledge of statistical analysis (regre...    1.0   \n",
       "1               1  Drive actions at scale using scientifically-ba...    1.0   \n",
       "2               2  Candidate must be a self-starting, highly moti...    1.0   \n",
       "3               3  )..Experience with cloud technologies and AWS....    1.0   \n",
       "4               4  Is familiar with disciplines such as Natural L...    1.0   \n",
       "...           ...                                                ...    ...   \n",
       "24774       24774  Minimum 1 year of experience in a correspondin...    1.0   \n",
       "24775       24775  - University degree in Computer Sciences or a ...    1.0   \n",
       "24776       24776  Experience should include writing complex quer...    1.0   \n",
       "24777       24777  NET Framework and ADO.NET; - Knowledgeof Web S...    1.0   \n",
       "24778       24778  Math/ Physics/ EE or related field, PhD is pre...    1.0   \n",
       "\n",
       "          score  \n",
       "0      0.818636  \n",
       "1      0.806346  \n",
       "2      1.000000  \n",
       "3      0.812862  \n",
       "4      0.563148  \n",
       "...         ...  \n",
       "24774  0.000000  \n",
       "24775  0.000000  \n",
       "24776  0.000000  \n",
       "24777  0.000000  \n",
       "24778  0.000000  \n",
       "\n",
       "[24779 rows x 4 columns]"
      ]
     },
     "execution_count": 3,
     "metadata": {},
     "output_type": "execute_result"
    }
   ],
   "source": [
    "df"
   ]
  },
  {
   "cell_type": "code",
   "execution_count": 4,
   "metadata": {},
   "outputs": [
    {
     "data": {
      "text/plain": [
       "\"\\n\\nStrategy\\n\\nIBC maintains a decentralized structure in which local advisory boards, made up of members of the communities in the bank is located, direct operations of its branches, including recruiting prospective clients and developing products and services to meet local customers' needs  \""
      ]
     },
     "execution_count": 4,
     "metadata": {},
     "output_type": "execute_result"
    }
   ],
   "source": [
    "df.sentence[df.label == 2.].iloc[2]"
   ]
  },
  {
   "cell_type": "markdown",
   "metadata": {},
   "source": [
    "Let's check class distribution (looks really balanced!)"
   ]
  },
  {
   "cell_type": "code",
   "execution_count": 5,
   "metadata": {},
   "outputs": [
    {
     "name": "stdout",
     "output_type": "stream",
     "text": [
      "class 0 num: 12813, class 1 num 11966, total: 24779, 0 + 1: 24779, 1 / 0: 1.070783887681765\n"
     ]
    }
   ],
   "source": [
    "first_class_num = len(df[df.label == 1.0]) \n",
    "second_class_num = len(df[df.label == 2.0])\n",
    "sum_num = len(df[df.label.isin([1.0, 2.0])])\n",
    "print(f'class 0 num: {first_class_num}, class 1 num {second_class_num}, total: {first_class_num + second_class_num}, 0 + 1: {first_class_num + second_class_num}, 1 / 0: {first_class_num / second_class_num}')"
   ]
  },
  {
   "cell_type": "markdown",
   "metadata": {},
   "source": [
    "Tokenization"
   ]
  },
  {
   "cell_type": "code",
   "execution_count": 6,
   "metadata": {},
   "outputs": [],
   "source": [
    "from nltk.tokenize import WordPunctTokenizer\n",
    "tokenizer = WordPunctTokenizer()\n",
    "\n",
    "tokenized_sentences = []\n",
    "for sentence in df.sentence:\n",
    "    tokenized_sentences.append(tokenizer.tokenize(sentence.lower()))"
   ]
  },
  {
   "cell_type": "code",
   "execution_count": 7,
   "metadata": {},
   "outputs": [
    {
     "data": {
      "text/plain": [
       "['the',\n",
       " 'ideal',\n",
       " 'candidate',\n",
       " 'will',\n",
       " 'have',\n",
       " 'strong',\n",
       " 'experience',\n",
       " 'with',\n",
       " 'python',\n",
       " 'as',\n",
       " 'well',\n",
       " 'as',\n",
       " 'strong',\n",
       " 'oral',\n",
       " 'and',\n",
       " 'written',\n",
       " 'communication',\n",
       " 'skills',\n",
       " '.']"
      ]
     },
     "execution_count": 7,
     "metadata": {},
     "output_type": "execute_result"
    }
   ],
   "source": [
    "tokenized_sentences[125]"
   ]
  },
  {
   "cell_type": "markdown",
   "metadata": {},
   "source": [
    "## Words frequency distribution analisys"
   ]
  },
  {
   "cell_type": "code",
   "execution_count": 8,
   "metadata": {},
   "outputs": [],
   "source": [
    "flatten_ts = [word for sentence in tokenized_sentences for word in sentence]"
   ]
  },
  {
   "cell_type": "code",
   "execution_count": 9,
   "metadata": {},
   "outputs": [],
   "source": [
    "from collections import Counter\n",
    "\n",
    "counter = Counter(flatten_ts)\n",
    "distr = [(k, v) for k, v in sorted(counter.items(), key=lambda x: x[1])]"
   ]
  },
  {
   "cell_type": "markdown",
   "metadata": {},
   "source": [
    "Let's find less and most popular words"
   ]
  },
  {
   "cell_type": "code",
   "execution_count": 10,
   "metadata": {},
   "outputs": [
    {
     "data": {
      "text/plain": [
       "(['problemsdemonstrated',\n",
       "  'performanceintellectual',\n",
       "  'bigsql',\n",
       "  'preferredstrong',\n",
       "  'agronomists',\n",
       "  'anthropology',\n",
       "  'ch1',\n",
       "  'jv',\n",
       "  'defendable',\n",
       "  'phenomenologies',\n",
       "  'valuedemonstrated',\n",
       "  '1213',\n",
       "  'ebi',\n",
       "  'frm',\n",
       "  'standpointbuilding',\n",
       "  'learningtech',\n",
       "  'tableauexperience',\n",
       "  'statisticswe',\n",
       "  'culturepreferred',\n",
       "  'solutionability'],\n",
       " 13960)"
      ]
     },
     "execution_count": 10,
     "metadata": {},
     "output_type": "execute_result"
    }
   ],
   "source": [
    "# Least popular words\n",
    "least_popular_words = [ word for word, pop in distr if pop  < 5]\n",
    "least_popular_words[:20], len(least_popular_words)"
   ]
  },
  {
   "cell_type": "code",
   "execution_count": 11,
   "metadata": {},
   "outputs": [
    {
     "data": {
      "text/plain": [
       "[('skills', 8213),\n",
       " ('is', 8739),\n",
       " ('/', 9684),\n",
       " ('for', 9894),\n",
       " ('or', 9963),\n",
       " ('knowledge', 10799),\n",
       " ('data', 12850),\n",
       " ('..', 14439),\n",
       " ('experience', 17490),\n",
       " ('a', 18461),\n",
       " ('with', 19030),\n",
       " ('the', 26688),\n",
       " ('in', 28206),\n",
       " ('.', 28259),\n",
       " ('to', 32751),\n",
       " ('of', 35437),\n",
       " (';', 38347),\n",
       " ('-', 61423),\n",
       " ('and', 75117),\n",
       " (',', 79681)]"
      ]
     },
     "execution_count": 11,
     "metadata": {},
     "output_type": "execute_result"
    }
   ],
   "source": [
    "# 20 most popular words\n",
    "distr[-20:]"
   ]
  },
  {
   "cell_type": "code",
   "execution_count": 12,
   "metadata": {},
   "outputs": [],
   "source": [
    "# Word frequency distribution\n",
    "counts = Counter(list(counter.values()))\n",
    "counts = {k: v for k, v in sorted(counts.items(), key=lambda x: x[0], reverse=True)}"
   ]
  },
  {
   "cell_type": "code",
   "execution_count": 14,
   "metadata": {},
   "outputs": [
    {
     "data": {
      "image/png": "[encoded data removed]",
      "text/plain": [
       "<Figure size 1000x500 with 1 Axes>"
      ]
     },
     "metadata": {
      "needs_background": "light"
     },
     "output_type": "display_data"
    }
   ],
   "source": [
    "# Word frequency distribution visualized\n",
    "frequency = list(counts.keys())\n",
    "count_of_words_with_such_frequency = list(counts.values())\n",
    "plt.plot(frequency, count_of_words_with_such_frequency) # x, y\n",
    "\n",
    "plt.xscale('log')\n",
    "plt.xlabel('Frequence of word appearence in the dataset')\n",
    "plt.ylabel('Count of words with such frequency')\n",
    "plt.grid()\n",
    "plt.rcParams['figure.figsize'] = [10, 5]\n",
    "plt.rcParams['figure.dpi'] = 100\n",
    "\n",
    "plt.show()"
   ]
  },
  {
   "cell_type": "markdown",
   "metadata": {},
   "source": [
    "## PLAN"
   ]
  },
  {
   "cell_type": "markdown",
   "metadata": {},
   "source": [
    "* data cleaning, at least 5 times including in text (expirience is data specific word - do not delete)\n",
    "    delete punctuations, pronouns, articles + lemitization + (steming) - KP\n",
    "* Word2Vec learning - KP\n",
    "* graphics and statistics (data count vs frequency in all sentences), bar plots with word frequency, top50 most popular and top50 least popular - DL\n",
    "* aggragate words in sentences (average, based on most popular words average them with diff weight) - KP\n",
    "* classical ML, 4 algorithms. 1) logistic regression - DL 2) SVM - KP 3) random trees - DL 4) knn + PCA - KP + graphics + hyperparam\n",
    "* NN (linear NN - KP, CNN - KP + DL, NLP transformer - DL, (LSTM))+ hyperparam tuning + tensorboard graphics\n",
    "* conclusion - KP + DL"
   ]
  },
  {
   "cell_type": "markdown",
   "metadata": {},
   "source": [
    "## Data cleaning"
   ]
  },
  {
   "cell_type": "markdown",
   "metadata": {},
   "source": [
    "We will remove punctoation, emoji, URLs and stop words"
   ]
  },
  {
   "cell_type": "code",
   "execution_count": 15,
   "metadata": {},
   "outputs": [
    {
     "data": {
      "text/plain": [
       "0    Solid Knowledge of statistical analysis regres...\n",
       "1    Drive actions at scale using scientificallybas...\n",
       "2    Candidate must be a selfstarting highly motiva...\n",
       "3    Experience with cloud technologies and AWSStro...\n",
       "4    Is familiar with disciplines such as Natural L...\n",
       "Name: sentence, dtype: object"
      ]
     },
     "execution_count": 15,
     "metadata": {},
     "output_type": "execute_result"
    }
   ],
   "source": [
    "import re\n",
    "cleaned_sentences = df.sentence.apply(lambda x: re.sub(r\"(@\\[A-Za-z0-9]+)|([^0-9A-Za-z \\t])|(\\w+:\\/\\/\\S+)|^rt|http.+?\", \"\", x))\n",
    "cleaned_sentences.head()"
   ]
  },
  {
   "cell_type": "markdown",
   "metadata": {},
   "source": [
    "let's the sentence from above to compare!"
   ]
  },
  {
   "cell_type": "code",
   "execution_count": 16,
   "metadata": {},
   "outputs": [
    {
     "data": {
      "text/plain": [
       "\"\\n\\nStrategy\\n\\nIBC maintains a decentralized structure in which local advisory boards, made up of members of the communities in the bank is located, direct operations of its branches, including recruiting prospective clients and developing products and services to meet local customers' needs  \""
      ]
     },
     "execution_count": 16,
     "metadata": {},
     "output_type": "execute_result"
    }
   ],
   "source": [
    "# Before\n",
    "df[df.label == 2.].sentence.iloc[2]"
   ]
  },
  {
   "cell_type": "code",
   "execution_count": 17,
   "metadata": {},
   "outputs": [
    {
     "data": {
      "text/plain": [
       "'StrategyIBC maintains a decentralized structure in which local advisory boards made up of members of the communities in the bank is located direct operations of its branches including recruiting prospective clients and developing products and services to meet local customers needs  '"
      ]
     },
     "execution_count": 17,
     "metadata": {},
     "output_type": "execute_result"
    }
   ],
   "source": [
    "# After\n",
    "cleaned_sentences[df.label == 2.].iloc[2]"
   ]
  },
  {
   "cell_type": "markdown",
   "metadata": {},
   "source": [
    "Removing stop words"
   ]
  },
  {
   "cell_type": "code",
   "execution_count": 18,
   "metadata": {},
   "outputs": [
    {
     "name": "stderr",
     "output_type": "stream",
     "text": [
      "[nltk_data] Downloading package stopwords to\n",
      "[nltk_data]     /home/dlyakhov/nltk_data...\n",
      "[nltk_data]   Package stopwords is already up-to-date!\n"
     ]
    }
   ],
   "source": [
    "import nltk.corpus\n",
    "nltk.download('stopwords')\n",
    "from nltk.corpus import stopwords\n",
    "\n",
    "stop = stopwords.words('english')\n",
    "cleaned_stops = cleaned_sentences.apply(lambda x: \" \".join([word for word in x.split() if word not in (stop)]))"
   ]
  },
  {
   "cell_type": "code",
   "execution_count": 19,
   "metadata": {},
   "outputs": [
    {
     "data": {
      "text/plain": [
       "'StrategyIBC maintains decentralized structure local advisory boards made members communities bank located direct operations branches including recruiting prospective clients developing products services meet local customers needs'"
      ]
     },
     "execution_count": 19,
     "metadata": {},
     "output_type": "execute_result"
    }
   ],
   "source": [
    "# let's see the same sentence as example\n",
    "cleaned_stops[df.label == 2.].iloc[2]"
   ]
  },
  {
   "cell_type": "markdown",
   "metadata": {},
   "source": [
    "As we can see we manage to remove all Punctuation, Emoji’s, URL’s, @’s and also stop words in english language!"
   ]
  },
  {
   "cell_type": "code",
   "execution_count": 20,
   "metadata": {},
   "outputs": [
    {
     "data": {
      "text/html": [
       "<div>\n",
       "<style scoped>\n",
       "    .dataframe tbody tr th:only-of-type {\n",
       "        vertical-align: middle;\n",
       "    }\n",
       "\n",
       "    .dataframe tbody tr th {\n",
       "        vertical-align: top;\n",
       "    }\n",
       "\n",
       "    .dataframe thead th {\n",
       "        text-align: right;\n",
       "    }\n",
       "</style>\n",
       "<table border=\"1\" class=\"dataframe\">\n",
       "  <thead>\n",
       "    <tr style=\"text-align: right;\">\n",
       "      <th></th>\n",
       "      <th>Unnamed: 0</th>\n",
       "      <th>sentence</th>\n",
       "      <th>label</th>\n",
       "      <th>score</th>\n",
       "      <th>cleaned_sentences</th>\n",
       "    </tr>\n",
       "  </thead>\n",
       "  <tbody>\n",
       "    <tr>\n",
       "      <th>0</th>\n",
       "      <td>0</td>\n",
       "      <td>Solid Knowledge of statistical analysis (regre...</td>\n",
       "      <td>1.0</td>\n",
       "      <td>0.818636</td>\n",
       "      <td>Solid Knowledge statistical analysis regressio...</td>\n",
       "    </tr>\n",
       "    <tr>\n",
       "      <th>1</th>\n",
       "      <td>1</td>\n",
       "      <td>Drive actions at scale using scientifically-ba...</td>\n",
       "      <td>1.0</td>\n",
       "      <td>0.806346</td>\n",
       "      <td>Drive actions scale using scientificallybased ...</td>\n",
       "    </tr>\n",
       "    <tr>\n",
       "      <th>2</th>\n",
       "      <td>2</td>\n",
       "      <td>Candidate must be a self-starting, highly moti...</td>\n",
       "      <td>1.0</td>\n",
       "      <td>1.000000</td>\n",
       "      <td>Candidate must selfstarting highly motivated a...</td>\n",
       "    </tr>\n",
       "    <tr>\n",
       "      <th>3</th>\n",
       "      <td>3</td>\n",
       "      <td>)..Experience with cloud technologies and AWS....</td>\n",
       "      <td>1.0</td>\n",
       "      <td>0.812862</td>\n",
       "      <td>Experience cloud technologies AWSStrong comput...</td>\n",
       "    </tr>\n",
       "    <tr>\n",
       "      <th>4</th>\n",
       "      <td>4</td>\n",
       "      <td>Is familiar with disciplines such as Natural L...</td>\n",
       "      <td>1.0</td>\n",
       "      <td>0.563148</td>\n",
       "      <td>Is familiar disciplines Natural Language Proce...</td>\n",
       "    </tr>\n",
       "  </tbody>\n",
       "</table>\n",
       "</div>"
      ],
      "text/plain": [
       "   Unnamed: 0                                           sentence  label  \\\n",
       "0           0  Solid Knowledge of statistical analysis (regre...    1.0   \n",
       "1           1  Drive actions at scale using scientifically-ba...    1.0   \n",
       "2           2  Candidate must be a self-starting, highly moti...    1.0   \n",
       "3           3  )..Experience with cloud technologies and AWS....    1.0   \n",
       "4           4  Is familiar with disciplines such as Natural L...    1.0   \n",
       "\n",
       "      score                                  cleaned_sentences  \n",
       "0  0.818636  Solid Knowledge statistical analysis regressio...  \n",
       "1  0.806346  Drive actions scale using scientificallybased ...  \n",
       "2  1.000000  Candidate must selfstarting highly motivated a...  \n",
       "3  0.812862  Experience cloud technologies AWSStrong comput...  \n",
       "4  0.563148  Is familiar disciplines Natural Language Proce...  "
      ]
     },
     "execution_count": 20,
     "metadata": {},
     "output_type": "execute_result"
    }
   ],
   "source": [
    "df['cleaned_sentences'] = cleaned_stops\n",
    "df.head()"
   ]
  },
  {
   "cell_type": "markdown",
   "metadata": {},
   "source": [
    " Filtered sentences tokenization"
   ]
  },
  {
   "cell_type": "code",
   "execution_count": 21,
   "metadata": {},
   "outputs": [],
   "source": [
    "from nltk.tokenize import WordPunctTokenizer\n",
    "tokenizer = WordPunctTokenizer()\n",
    "\n",
    "tokenized_sentences = []\n",
    "for sentence in df.cleaned_sentences:\n",
    "    tokenized_sentences.append(tokenizer.tokenize(sentence.lower()))"
   ]
  },
  {
   "cell_type": "code",
   "execution_count": 22,
   "metadata": {},
   "outputs": [
    {
     "data": {
      "text/plain": [
       "['is',\n",
       " 'familiar',\n",
       " 'disciplines',\n",
       " 'natural',\n",
       " 'language',\n",
       " 'processing',\n",
       " 'machine',\n",
       " 'learning',\n",
       " 'predictive',\n",
       " 'modeling',\n",
       " 'statistical',\n",
       " 'analysis',\n",
       " 'hypothesis',\n",
       " 'testing']"
      ]
     },
     "execution_count": 22,
     "metadata": {},
     "output_type": "execute_result"
    }
   ],
   "source": [
    "tokenized_sentences[4]"
   ]
  },
  {
   "cell_type": "markdown",
   "metadata": {},
   "source": [
    "Let's check most / least popular words"
   ]
  },
  {
   "cell_type": "code",
   "execution_count": 23,
   "metadata": {},
   "outputs": [
    {
     "name": "stdout",
     "output_type": "stream",
     "text": [
      "least popular words count: 34158\n"
     ]
    },
    {
     "data": {
      "text/plain": [
       "['performanceintellectual',\n",
       " 'bigsql',\n",
       " 'awsstrong',\n",
       " 'databasestrong',\n",
       " 'capabilitiesability',\n",
       " 'cloudstrong',\n",
       " 'environmentwhen',\n",
       " 'scientistsa',\n",
       " 'includesconsulting',\n",
       " 'biaswriting',\n",
       " 'reportseffectively',\n",
       " 'trialsleveraging',\n",
       " 'handidentifying',\n",
       " 'processescollaborating',\n",
       " 'higher3',\n",
       " 'agronomists',\n",
       " 'scaleresponsibilitiesbuild',\n",
       " 'assetsbuild',\n",
       " 'capabilitiesbuild',\n",
       " 'productionprepare']"
      ]
     },
     "execution_count": 23,
     "metadata": {},
     "output_type": "execute_result"
    }
   ],
   "source": [
    "flatten_ts = [word for sentence in tokenized_sentences for word in sentence]\n",
    "counter = Counter(flatten_ts)\n",
    "distr = [(k, v) for k, v in sorted(counter.items(), key=lambda x: x[1])]\n",
    "count_threshold = 7\n",
    "least_popular_words = [word for word, count in distr if count < count_threshold]\n",
    "print(f'least popular words count: {len(least_popular_words)}')\n",
    "least_popular_words[:20]"
   ]
  },
  {
   "cell_type": "markdown",
   "metadata": {},
   "source": [
    "We have chosen 7 as the threshold because words with frequency 8 already have some potential value for classification "
   ]
  },
  {
   "cell_type": "code",
   "execution_count": 24,
   "metadata": {},
   "outputs": [
    {
     "data": {
      "text/plain": [
       "[('new', 2891),\n",
       " ('develop', 2980),\n",
       " ('solutions', 3080),\n",
       " ('science', 3205),\n",
       " ('learning', 3277),\n",
       " ('good', 3588),\n",
       " ('strong', 3738),\n",
       " ('technical', 3887),\n",
       " ('years', 4506),\n",
       " ('design', 4669),\n",
       " ('team', 4889),\n",
       " ('software', 5337),\n",
       " ('business', 5525),\n",
       " ('ability', 5907),\n",
       " ('development', 6457),\n",
       " ('skills', 7269),\n",
       " ('work', 7569),\n",
       " ('knowledge', 10389),\n",
       " ('data', 11911),\n",
       " ('experience', 14556)]"
      ]
     },
     "execution_count": 24,
     "metadata": {},
     "output_type": "execute_result"
    }
   ],
   "source": [
    "# most poular words\n",
    "distr[-20:]"
   ]
  },
  {
   "cell_type": "markdown",
   "metadata": {},
   "source": [
    "Looks like all most popular words make clear sense for classification task. But least popular words still contains only outlayers. Let's remove them"
   ]
  },
  {
   "cell_type": "code",
   "execution_count": 25,
   "metadata": {},
   "outputs": [],
   "source": [
    "sentences_without_rare_words = []\n",
    "not_popular_words_set = set(least_popular_words)\n",
    "for sentence in tokenized_sentences:\n",
    "    filtered_sent = [word for word in sentence if word not in not_popular_words_set]\n",
    "    sentences_without_rare_words.append(filtered_sent)"
   ]
  },
  {
   "cell_type": "code",
   "execution_count": 26,
   "metadata": {},
   "outputs": [
    {
     "data": {
      "image/png": "[encoded data removed]",
      "text/plain": [
       "<Figure size 1000x500 with 1 Axes>"
      ]
     },
     "metadata": {
      "needs_background": "light"
     },
     "output_type": "display_data"
    }
   ],
   "source": [
    "flatten_ts_filtered = [word for sentence in sentences_without_rare_words for word in sentence]\n",
    "counter = Counter(flatten_ts_filtered)\n",
    "counts = Counter(list(counter.values()))\n",
    "counts = {k: v for k, v in sorted(counts.items(), key=lambda x: x[0], reverse=True)}\n",
    "\n",
    "frequency = list(counts.keys())\n",
    "count_of_words_with_such_frequency = list(counts.values())\n",
    "plt.plot(frequency, count_of_words_with_such_frequency) # x, y\n",
    "\n",
    "plt.xscale('log')\n",
    "plt.xlabel('Frequence of word appearence in the dataset')\n",
    "plt.ylabel('Count of words with such frequency')\n",
    "plt.grid()\n",
    "plt.rcParams['figure.figsize'] = [10, 5]\n",
    "plt.rcParams['figure.dpi'] = 100\n",
    "\n",
    "plt.show()"
   ]
  },
  {
   "cell_type": "markdown",
   "metadata": {},
   "source": [
    "Much more meaningfull words in proportion!"
   ]
  },
  {
   "cell_type": "markdown",
   "metadata": {},
   "source": [
    "## Lematization "
   ]
  },
  {
   "cell_type": "code",
   "execution_count": 27,
   "metadata": {},
   "outputs": [
    {
     "name": "stderr",
     "output_type": "stream",
     "text": [
      "[nltk_data] Downloading package wordnet to /home/dlyakhov/nltk_data...\n",
      "[nltk_data]   Package wordnet is already up-to-date!\n"
     ]
    },
    {
     "data": {
      "text/plain": [
       "True"
      ]
     },
     "execution_count": 27,
     "metadata": {},
     "output_type": "execute_result"
    }
   ],
   "source": [
    "nltk.download('wordnet')"
   ]
  },
  {
   "cell_type": "code",
   "execution_count": 28,
   "metadata": {},
   "outputs": [
    {
     "name": "stdout",
     "output_type": "stream",
     "text": [
      "24779\n"
     ]
    }
   ],
   "source": [
    "from nltk.stem import WordNetLemmatizer \n",
    "# Init the Wordnet Lemmatizer\n",
    "lemmatizer = WordNetLemmatizer()\n",
    "lemmatized_output = [[lemmatizer.lemmatize(w) for w in sentence] for sentence in sentences_without_rare_words]\n",
    "print(len(lemmatized_output))"
   ]
  },
  {
   "cell_type": "code",
   "execution_count": 29,
   "metadata": {},
   "outputs": [
    {
     "data": {
      "text/plain": [
       "['is',\n",
       " 'familiar',\n",
       " 'discipline',\n",
       " 'natural',\n",
       " 'language',\n",
       " 'processing',\n",
       " 'machine',\n",
       " 'learning',\n",
       " 'predictive',\n",
       " 'modeling',\n",
       " 'statistical',\n",
       " 'analysis',\n",
       " 'hypothesis',\n",
       " 'testing']"
      ]
     },
     "execution_count": 29,
     "metadata": {},
     "output_type": "execute_result"
    }
   ],
   "source": [
    "lemmatized_output[4]"
   ]
  },
  {
   "cell_type": "markdown",
   "metadata": {},
   "source": [
    "### Word2Vec"
   ]
  },
  {
   "cell_type": "code",
   "execution_count": 30,
   "metadata": {},
   "outputs": [],
   "source": [
    "from gensim.models import Word2Vec\n",
    "\n",
    "model = Word2Vec(lemmatized_output, \n",
    "                 vector_size=100,# vector_size or size, idk why sometimes you should change param, some pip magic...\n",
    "                 min_count=5,\n",
    "                 window=5)"
   ]
  },
  {
   "cell_type": "code",
   "execution_count": 31,
   "metadata": {},
   "outputs": [
    {
     "data": {
      "text/plain": [
       "(100,)"
      ]
     },
     "execution_count": 31,
     "metadata": {},
     "output_type": "execute_result"
    }
   ],
   "source": [
    "vector = model.wv['computer'] \n",
    "vector.shape"
   ]
  },
  {
   "cell_type": "code",
   "execution_count": 32,
   "metadata": {},
   "outputs": [
    {
     "data": {
      "text/plain": [
       "[('sa', 0.7487086057662964),\n",
       " ('pythonexperience', 0.734236478805542),\n",
       " ('cc', 0.692768931388855),\n",
       " ('matlab', 0.6714930534362793),\n",
       " ('java', 0.6650827527046204),\n",
       " ('objectoriented', 0.6608738303184509),\n",
       " ('skillsdeep', 0.6319075226783752),\n",
       " ('qt', 0.6317495107650757),\n",
       " ('scala', 0.6289627552032471),\n",
       " ('php', 0.6231229305267334)]"
      ]
     },
     "execution_count": 32,
     "metadata": {},
     "output_type": "execute_result"
    }
   ],
   "source": [
    "model.wv.most_similar([\"python\"])"
   ]
  },
  {
   "cell_type": "code",
   "execution_count": 33,
   "metadata": {},
   "outputs": [],
   "source": [
    "y = df.label.values % 2 # [skill class 1 -> 1, backgroud class 2 -> 0]"
   ]
  },
  {
   "cell_type": "markdown",
   "metadata": {},
   "source": [
    "Compose sentence embeddings like mean of embeddings of words in sentence"
   ]
  },
  {
   "cell_type": "code",
   "execution_count": 34,
   "metadata": {},
   "outputs": [],
   "source": [
    "# Embedd sentences by mean\n",
    "X = []\n",
    "y_filtered = []\n",
    "for sentence, y_cur in zip(lemmatized_output, y):\n",
    "    if sentence:\n",
    "        vectors = np.stack([model.wv.get_vector(word) for word in sentence if word in model.wv.index_to_key])\n",
    "        sent_emb = np.mean(vectors, axis=0)\n",
    "        X.append(sent_emb) \n",
    "        y_filtered.append(y_cur)\n",
    "    \n",
    "X = np.stack(X)\n",
    "y = np.array(y_filtered)"
   ]
  },
  {
   "cell_type": "code",
   "execution_count": 35,
   "metadata": {},
   "outputs": [
    {
     "data": {
      "text/plain": [
       "((24776, 100), (24776,))"
      ]
     },
     "execution_count": 35,
     "metadata": {},
     "output_type": "execute_result"
    }
   ],
   "source": [
    "X.shape, y.shape"
   ]
  },
  {
   "cell_type": "markdown",
   "metadata": {},
   "source": [
    "## Machine learning algorithms"
   ]
  },
  {
   "cell_type": "markdown",
   "metadata": {},
   "source": [
    "# Split dataset"
   ]
  },
  {
   "cell_type": "code",
   "execution_count": 36,
   "metadata": {},
   "outputs": [],
   "source": [
    "from sklearn.model_selection import train_test_split\n",
    "\n",
    "X_train, X_test, y_train, y_test = train_test_split(X, y, test_size=0.2, random_state=42, stratify=y)"
   ]
  },
  {
   "cell_type": "code",
   "execution_count": 37,
   "metadata": {},
   "outputs": [
    {
     "name": "stdout",
     "output_type": "stream",
     "text": [
      "X_train: 19820, X_test: 4956\n"
     ]
    }
   ],
   "source": [
    "print(f'X_train: {len(X_train)}, X_test: {len(X_test)}')"
   ]
  },
  {
   "cell_type": "code",
   "execution_count": 38,
   "metadata": {},
   "outputs": [
    {
     "data": {
      "text/plain": [
       "0.9339630005464055"
      ]
     },
     "execution_count": 38,
     "metadata": {},
     "output_type": "execute_result"
    }
   ],
   "source": [
    "len(y[y==0]) / len(y[y==1])"
   ]
  },
  {
   "cell_type": "markdown",
   "metadata": {},
   "source": [
    "# KNN"
   ]
  },
  {
   "cell_type": "code",
   "execution_count": 41,
   "metadata": {},
   "outputs": [
    {
     "data": {
      "text/plain": [
       "KNeighborsClassifier(n_neighbors=10)"
      ]
     },
     "execution_count": 41,
     "metadata": {},
     "output_type": "execute_result"
    }
   ],
   "source": [
    "from sklearn.neighbors import KNeighborsClassifier\n",
    "from sklearn.metrics import classification_report\n",
    "\n",
    "neigh = KNeighborsClassifier(n_neighbors=10)\n",
    "neigh.fit(X_train, y_train)"
   ]
  },
  {
   "cell_type": "code",
   "execution_count": 42,
   "metadata": {},
   "outputs": [
    {
     "name": "stdout",
     "output_type": "stream",
     "text": [
      "              precision    recall  f1-score   support\n",
      "\n",
      "         0.0       0.98      0.96      0.97      2393\n",
      "         1.0       0.97      0.98      0.98      2563\n",
      "\n",
      "    accuracy                           0.97      4956\n",
      "   macro avg       0.97      0.97      0.97      4956\n",
      "weighted avg       0.97      0.97      0.97      4956\n",
      "\n"
     ]
    }
   ],
   "source": [
    "pred = neigh.predict(X_test)\n",
    "report = classification_report(y_true=y_test, y_pred=pred)\n",
    "print(report)"
   ]
  },
  {
   "cell_type": "markdown",
   "metadata": {},
   "source": [
    "# Random trees"
   ]
  },
  {
   "cell_type": "code",
   "execution_count": 43,
   "metadata": {},
   "outputs": [
    {
     "data": {
      "text/plain": [
       "RandomForestClassifier(max_depth=5, random_state=42)"
      ]
     },
     "execution_count": 43,
     "metadata": {},
     "output_type": "execute_result"
    }
   ],
   "source": [
    "from sklearn.ensemble import RandomForestClassifier\n",
    "\n",
    "RT = RandomForestClassifier(max_depth=5, random_state=42)\n",
    "RT.fit(X_train, y_train)"
   ]
  },
  {
   "cell_type": "code",
   "execution_count": 44,
   "metadata": {},
   "outputs": [
    {
     "name": "stdout",
     "output_type": "stream",
     "text": [
      "              precision    recall  f1-score   support\n",
      "\n",
      "         0.0       0.96      0.96      0.96      2393\n",
      "         1.0       0.96      0.96      0.96      2563\n",
      "\n",
      "    accuracy                           0.96      4956\n",
      "   macro avg       0.96      0.96      0.96      4956\n",
      "weighted avg       0.96      0.96      0.96      4956\n",
      "\n"
     ]
    }
   ],
   "source": [
    "pred = RT.predict(X_test)\n",
    "report = classification_report(y_true=y_test, y_pred=pred)\n",
    "print(report)"
   ]
  },
  {
   "cell_type": "markdown",
   "metadata": {},
   "source": [
    "WOOOW!"
   ]
  },
  {
   "cell_type": "markdown",
   "metadata": {},
   "source": [
    "# Logistig regression"
   ]
  },
  {
   "cell_type": "code",
   "execution_count": 45,
   "metadata": {},
   "outputs": [],
   "source": [
    "from sklearn.linear_model import LogisticRegression\n",
    "\n",
    "LR = LogisticRegression(random_state=42, max_iter=1000).fit(X_train, y_train)"
   ]
  },
  {
   "cell_type": "code",
   "execution_count": 46,
   "metadata": {},
   "outputs": [
    {
     "name": "stdout",
     "output_type": "stream",
     "text": [
      "              precision    recall  f1-score   support\n",
      "\n",
      "         0.0       0.97      0.97      0.97      2393\n",
      "         1.0       0.97      0.97      0.97      2563\n",
      "\n",
      "    accuracy                           0.97      4956\n",
      "   macro avg       0.97      0.97      0.97      4956\n",
      "weighted avg       0.97      0.97      0.97      4956\n",
      "\n"
     ]
    }
   ],
   "source": [
    "pred = LR.predict(X_test)\n",
    "report = classification_report(y_true=y_test, y_pred=pred)\n",
    "print(report)"
   ]
  },
  {
   "cell_type": "markdown",
   "metadata": {},
   "source": [
    "# ADA BOOOST"
   ]
  },
  {
   "cell_type": "code",
   "execution_count": 49,
   "metadata": {},
   "outputs": [],
   "source": [
    "from sklearn.ensemble import AdaBoostClassifier\n",
    "\n",
    "AB = AdaBoostClassifier(n_estimators=200, random_state=42).fit(X_train, y_train)"
   ]
  },
  {
   "cell_type": "code",
   "execution_count": 50,
   "metadata": {},
   "outputs": [
    {
     "name": "stdout",
     "output_type": "stream",
     "text": [
      "              precision    recall  f1-score   support\n",
      "\n",
      "         0.0       0.97      0.97      0.97      2393\n",
      "         1.0       0.97      0.97      0.97      2563\n",
      "\n",
      "    accuracy                           0.97      4956\n",
      "   macro avg       0.97      0.97      0.97      4956\n",
      "weighted avg       0.97      0.97      0.97      4956\n",
      "\n"
     ]
    }
   ],
   "source": [
    "pred = AB.predict(X_test)\n",
    "report = classification_report(y_true=y_test, y_pred=pred)\n",
    "print(report)"
   ]
  },
  {
   "cell_type": "markdown",
   "metadata": {},
   "source": [
    "Let's try simple exaples to check we are doing right things"
   ]
  },
  {
   "cell_type": "code",
   "execution_count": 54,
   "metadata": {},
   "outputs": [
    {
     "data": {
      "text/plain": [
       "[array([1.]), array([0.]), array([0.]), array([0.]), array([1.])]"
      ]
     },
     "execution_count": 54,
     "metadata": {},
     "output_type": "execute_result"
    }
   ],
   "source": [
    "sent_1 = \"python SQL required\"\n",
    "sent_0 = \"you always predict 1?\"\n",
    "sent_00 = \"big companies need you\"\n",
    "sent_000 = \" Dunkeys likes apples\"\n",
    "sent_0000 = \"our comhpany is a fuel enterprise\"\n",
    "sent_11 = \"2 years Java expirience\"\n",
    "\n",
    "p = list()\n",
    "for sent in [sent_1, sent_0, sent_00, sent_000, sent_11]:\n",
    "    tokens = tokenizer.tokenize(sent.lower())\n",
    "    input_ = np.stack([model.wv.get_vector(word) for word in sent if word in model.wv.index_to_key])\n",
    "    input_ = np.mean(input_, axis=0)\n",
    "    prediction = LR.predict(input_.reshape(1, -1))\n",
    "    p.append(prediction)\n",
    "p"
   ]
  },
  {
   "cell_type": "markdown",
   "metadata": {},
   "source": [
    "# SVM + CV scores + grid search"
   ]
  },
  {
   "cell_type": "code",
   "execution_count": 88,
   "metadata": {},
   "outputs": [
    {
     "data": {
      "text/plain": [
       "array([0.95885017, 0.95690169, 0.92785612, 0.97367402, 0.98239505])"
      ]
     },
     "execution_count": 88,
     "metadata": {},
     "output_type": "execute_result"
    }
   ],
   "source": [
    "from sklearn import svm\n",
    "from sklearn.model_selection import cross_val_score\n",
    "clf = svm.SVC(kernel='linear', C=1, random_state=42)\n",
    "scores = cross_val_score(clf, X, y, cv=5, scoring='f1')\n",
    "scores"
   ]
  },
  {
   "cell_type": "code",
   "execution_count": 90,
   "metadata": {},
   "outputs": [
    {
     "data": {
      "text/plain": [
       "GridSearchCV(estimator=SVC(C=1, kernel='linear', random_state=42),\n",
       "             param_grid={'C': [1, 10], 'kernel': ('linear', 'rbf')})"
      ]
     },
     "execution_count": 90,
     "metadata": {},
     "output_type": "execute_result"
    }
   ],
   "source": [
    "from sklearn.model_selection import GridSearchCV\n",
    "parameters = {'kernel':('linear', 'rbf'), 'C':[1, 10]}\n",
    "grid_clf = GridSearchCV(clf, parameters)\n",
    "grid_clf.fit(X,y)"
   ]
  },
  {
   "cell_type": "code",
   "execution_count": 96,
   "metadata": {},
   "outputs": [
    {
     "data": {
      "text/plain": [
       "{'mean_fit_time': array([5.14717336, 5.34242077, 9.54218087, 5.38555226]),\n",
       " 'std_fit_time': array([0.47932973, 0.45274766, 1.05857718, 0.48143473]),\n",
       " 'mean_score_time': array([0.69767971, 1.02832489, 0.6651082 , 0.91776667]),\n",
       " 'std_score_time': array([0.06341811, 0.07842936, 0.05955041, 0.07240529]),\n",
       " 'param_C': masked_array(data=[1, 1, 10, 10],\n",
       "              mask=[False, False, False, False],\n",
       "        fill_value='?',\n",
       "             dtype=object),\n",
       " 'param_kernel': masked_array(data=['linear', 'rbf', 'linear', 'rbf'],\n",
       "              mask=[False, False, False, False],\n",
       "        fill_value='?',\n",
       "             dtype=object),\n",
       " 'params': [{'C': 1, 'kernel': 'linear'},\n",
       "  {'C': 1, 'kernel': 'rbf'},\n",
       "  {'C': 10, 'kernel': 'linear'},\n",
       "  {'C': 10, 'kernel': 'rbf'}],\n",
       " 'split0_test_score': array([0.95782889, 0.96711057, 0.95924132, 0.97215496]),\n",
       " 'split1_test_score': array([0.95620585, 0.96185671, 0.95761857, 0.96811302]),\n",
       " 'split2_test_score': array([0.92875883, 0.92956609, 0.93118063, 0.93380424]),\n",
       " 'split3_test_score': array([0.97255298, 0.97961655, 0.97255298, 0.98183653]),\n",
       " 'split4_test_score': array([0.98163471, 0.98446014, 0.98102926, 0.98365288]),\n",
       " 'mean_test_score': array([0.95939625, 0.96452201, 0.96032455, 0.96791232]),\n",
       " 'std_test_score': array([0.01799408, 0.01929298, 0.01694747, 0.01801694]),\n",
       " 'rank_test_score': array([4, 2, 3, 1], dtype=int32)}"
      ]
     },
     "execution_count": 96,
     "metadata": {},
     "output_type": "execute_result"
    }
   ],
   "source": [
    "grid_clf.cv_results_"
   ]
  },
  {
   "cell_type": "code",
   "execution_count": 97,
   "metadata": {},
   "outputs": [
    {
     "data": {
      "text/plain": [
       "array([0.97283465, 0.96862589, 0.93281442, 0.98245614, 0.98424431])"
      ]
     },
     "execution_count": 97,
     "metadata": {},
     "output_type": "execute_result"
    }
   ],
   "source": [
    "cross_val_score(grid_clf, X, y, cv=5, scoring='f1')"
   ]
  },
  {
   "cell_type": "markdown",
   "metadata": {},
   "source": [
    "As we can see the CV csores got higher after grid search. radial kernel with C=10 is better for this task"
   ]
  },
  {
   "cell_type": "markdown",
   "metadata": {},
   "source": [
    "# DEEEP DEEEEEEP LEARNING\n"
   ]
  },
  {
   "cell_type": "code",
   "execution_count": 39,
   "metadata": {},
   "outputs": [],
   "source": [
    "import torch\n",
    "import torch.nn.functional as F\n",
    "from torch.utils.data import TensorDataset, DataLoader\n",
    "from torch import nn\n",
    "from sklearn.metrics import classification_report\n",
    "from sklearn.metrics import f1_score\n",
    "from torch.utils.tensorboard import SummaryWriter\n",
    "from torch import optim"
   ]
  },
  {
   "cell_type": "code",
   "execution_count": 40,
   "metadata": {},
   "outputs": [],
   "source": [
    "class TrainingSchedule:\n",
    "    def __init__(self,\n",
    "                 epochs,\n",
    "                 batch_size,\n",
    "                 lr,\n",
    "                 weight_decay,\n",
    "                 ce_weights,\n",
    "                 scheduler_gamma,\n",
    "                 optimizer_type='Adam'):\n",
    "        self.epochs = epochs\n",
    "        self.batch_size = batch_size\n",
    "        self.lr = lr\n",
    "        self.weight_decay = weight_decay\n",
    "        self.ce_weights = ce_weights\n",
    "        self.scheduler_gamma = scheduler_gamma\n",
    "        self.optimizer_type = optimizer_type\n",
    "\n",
    "\n",
    "SENTENCE_TRAINING_SCHEDULE = TrainingSchedule(epochs=150,\n",
    "                                              batch_size=256,\n",
    "                                              lr=1e-4,\n",
    "                                              weight_decay=0.1,\n",
    "                                              ce_weights=[1, 1],\n",
    "                                              scheduler_gamma=0.99)\n",
    "\n",
    "SENTENCE_TRAINING_SCHEDULE_CONV = TrainingSchedule(epochs=150,\n",
    "                                              batch_size=256,\n",
    "                                              lr=1e-4,\n",
    "                                              weight_decay=1e-2,\n",
    "                                              ce_weights=[1, 1],\n",
    "                                              scheduler_gamma=0.999)\n",
    "\n",
    "SCHEDULE = SENTENCE_TRAINING_SCHEDULE_CONV"
   ]
  },
  {
   "cell_type": "code",
   "execution_count": 41,
   "metadata": {},
   "outputs": [],
   "source": [
    "class ClassificationHead(nn.Module):\n",
    "    def __init__(self, shape=768, num_classes=2):\n",
    "        super().__init__()\n",
    "\n",
    "        self.lin1 = nn.Linear(shape, int(shape / 1.3))\n",
    "        self.bn1 = nn.BatchNorm1d(int(shape / 1.3))\n",
    "        self.lin2 = nn.Linear(int(shape / 1.3), int(shape / 2.0))\n",
    "        self.bn2 = nn.BatchNorm1d(int(shape / 2.0))\n",
    "        self.lin3 = nn.Linear(int(shape / 2.0), num_classes)\n",
    "        \n",
    "\n",
    "    def forward(self, x):\n",
    "        x = F.relu(self.lin1(x))\n",
    "        x = self.bn1(x)\n",
    "        x = F.relu(self.lin2(x))\n",
    "        x = self.bn2(x)\n",
    "        x = self.lin3(x)\n",
    "        return x\n"
   ]
  },
  {
   "cell_type": "code",
   "execution_count": 42,
   "metadata": {},
   "outputs": [],
   "source": [
    "def train(train_dataset: TensorDataset,\n",
    "          val_dataset: TensorDataset,\n",
    "          device,\n",
    "          Model,\n",
    "          validation_freq=10,\n",
    "          log_dir='logs/'):\n",
    "    train_dl = DataLoader(train_dataset, batch_size=SCHEDULE.batch_size, shuffle=True)\n",
    "    model = Model(shape=list(train_dataset[0][0].shape)[0], num_classes=2)\n",
    "    model.to(device)\n",
    "    criterion = nn.CrossEntropyLoss(weight=torch.tensor(SCHEDULE.ce_weights, dtype=torch.float).to(device))\n",
    "    optimizer = optim.Adam(model.parameters(), lr=SCHEDULE.lr, weight_decay=SCHEDULE.weight_decay)\n",
    "    scheduler = optim.lr_scheduler.ExponentialLR(optimizer, gamma=SCHEDULE.scheduler_gamma)\n",
    "    writer = SummaryWriter(log_dir)\n",
    "    model.train()\n",
    "    for epoch in range(SCHEDULE.epochs):\n",
    "        running_loss = 0.0\n",
    "        for xb, yb in train_dl:\n",
    "            # Zero parameters gradient values\n",
    "            optimizer.zero_grad()\n",
    "            # Forward\n",
    "            outputs = model(xb)\n",
    "            # Calculate loss\n",
    "            loss = criterion(outputs, yb)\n",
    "            # Calculate gradients\n",
    "            loss.backward()\n",
    "            # Apply it by optimizer\n",
    "            optimizer.step()\n",
    "            # print statistics\n",
    "            running_loss += loss.item()\n",
    "        print(f\"Epoch: {epoch}, loss: {running_loss}\")\n",
    "        writer.add_scalar('train_loss_per_epoch', running_loss, epoch)\n",
    "        if (epoch + 1) % validation_freq == 0:\n",
    "            validate(model, val_dataset, epoch, writer=writer)\n",
    "            model.train()\n",
    "        # Change learning rate\n",
    "        scheduler.step()\n",
    "    return model\n",
    "\n",
    "def validate(model, dataset: TensorDataset, epoch, batch_size=64, writer=None):\n",
    "    test_dl = DataLoader(dataset, batch_size=batch_size)\n",
    "    model.eval()\n",
    "    predictions = []\n",
    "    y_test = []\n",
    "    with torch.no_grad():\n",
    "        for xb, yb in test_dl:\n",
    "            outputs = model(xb)\n",
    "            predictions.append(torch.argmax(outputs, dim=1).cpu().detach().numpy())\n",
    "            y_test.append(yb.cpu().detach().numpy())\n",
    "    predictions = np.concatenate(predictions, axis=0)\n",
    "    y_test = np.concatenate(y_test, axis=0)\n",
    "    print(classification_report(y_true=np.array(y_test), y_pred=predictions))\n",
    "    if writer is not None:\n",
    "        writer.add_scalar('val_f1', f1_score(y_true=np.array(y_test), y_pred=predictions), epoch)"
   ]
  },
  {
   "cell_type": "code",
   "execution_count": 43,
   "metadata": {},
   "outputs": [],
   "source": [
    "train_dataset = TensorDataset(torch.tensor(X_train).to(\"cpu\"), torch.tensor(y_train, dtype=torch.long).to(\"cpu\"))\n",
    "val_dataset = TensorDataset(torch.tensor(X_test).to(\"cpu\"), torch.tensor(y_test, dtype=torch.long).to(\"cpu\"))"
   ]
  },
  {
   "cell_type": "code",
   "execution_count": 44,
   "metadata": {},
   "outputs": [
    {
     "name": "stdout",
     "output_type": "stream",
     "text": [
      "Epoch: 0, loss: 35.614147648215294\n",
      "Epoch: 1, loss: 14.277611583471298\n",
      "Epoch: 2, loss: 10.679650224745274\n",
      "Epoch: 3, loss: 9.261145256459713\n",
      "Epoch: 4, loss: 8.43599808961153\n",
      "Epoch: 5, loss: 7.899443984031677\n",
      "Epoch: 6, loss: 7.4706792533397675\n",
      "Epoch: 7, loss: 7.221278741955757\n",
      "Epoch: 8, loss: 6.946083519607782\n",
      "Epoch: 9, loss: 6.818168085068464\n",
      "              precision    recall  f1-score   support\n",
      "\n",
      "           0       0.97      0.97      0.97      2393\n",
      "           1       0.97      0.97      0.97      2563\n",
      "\n",
      "    accuracy                           0.97      4956\n",
      "   macro avg       0.97      0.97      0.97      4956\n",
      "weighted avg       0.97      0.97      0.97      4956\n",
      "\n",
      "Epoch: 10, loss: 6.569950997829437\n",
      "Epoch: 11, loss: 6.334330353885889\n",
      "Epoch: 12, loss: 6.24052195250988\n",
      "Epoch: 13, loss: 6.059714216738939\n",
      "Epoch: 14, loss: 5.926858574151993\n",
      "Epoch: 15, loss: 5.851193118840456\n",
      "Epoch: 16, loss: 5.633716147392988\n",
      "Epoch: 17, loss: 5.532610137015581\n",
      "Epoch: 18, loss: 5.441258177161217\n",
      "Epoch: 19, loss: 5.3093909695744514\n",
      "              precision    recall  f1-score   support\n",
      "\n",
      "           0       0.97      0.97      0.97      2393\n",
      "           1       0.98      0.97      0.97      2563\n",
      "\n",
      "    accuracy                           0.97      4956\n",
      "   macro avg       0.97      0.97      0.97      4956\n",
      "weighted avg       0.97      0.97      0.97      4956\n",
      "\n",
      "Epoch: 20, loss: 5.123547529801726\n",
      "Epoch: 21, loss: 5.036018453538418\n",
      "Epoch: 22, loss: 4.9425693564116955\n",
      "Epoch: 23, loss: 4.8949180245399475\n",
      "Epoch: 24, loss: 4.722226500511169\n",
      "Epoch: 25, loss: 4.653999296948314\n",
      "Epoch: 26, loss: 4.607484307140112\n",
      "Epoch: 27, loss: 4.474844589829445\n",
      "Epoch: 28, loss: 4.382878582924604\n",
      "Epoch: 29, loss: 4.31541845202446\n",
      "              precision    recall  f1-score   support\n",
      "\n",
      "           0       0.98      0.98      0.98      2393\n",
      "           1       0.98      0.98      0.98      2563\n",
      "\n",
      "    accuracy                           0.98      4956\n",
      "   macro avg       0.98      0.98      0.98      4956\n",
      "weighted avg       0.98      0.98      0.98      4956\n",
      "\n",
      "Epoch: 30, loss: 4.263864254578948\n",
      "Epoch: 31, loss: 4.146681470796466\n",
      "Epoch: 32, loss: 4.05809071008116\n",
      "Epoch: 33, loss: 3.92820499651134\n",
      "Epoch: 34, loss: 3.8370578046888113\n",
      "Epoch: 35, loss: 3.856523210182786\n",
      "Epoch: 36, loss: 3.7265379577875137\n",
      "Epoch: 37, loss: 3.777350042015314\n",
      "Epoch: 38, loss: 3.6135733984410763\n",
      "Epoch: 39, loss: 3.5497319381684065\n",
      "              precision    recall  f1-score   support\n",
      "\n",
      "           0       0.97      0.97      0.97      2393\n",
      "           1       0.98      0.98      0.98      2563\n",
      "\n",
      "    accuracy                           0.98      4956\n",
      "   macro avg       0.98      0.98      0.98      4956\n",
      "weighted avg       0.98      0.98      0.98      4956\n",
      "\n",
      "Epoch: 40, loss: 3.4903831593692303\n",
      "Epoch: 41, loss: 3.4505017064511776\n",
      "Epoch: 42, loss: 3.3943013940006495\n",
      "Epoch: 43, loss: 3.3196988943964243\n",
      "Epoch: 44, loss: 3.3208630410954356\n",
      "Epoch: 45, loss: 3.1605547722429037\n",
      "Epoch: 46, loss: 3.2122180964797735\n",
      "Epoch: 47, loss: 3.133231564424932\n",
      "Epoch: 48, loss: 3.0561839528381824\n",
      "Epoch: 49, loss: 2.957184821367264\n",
      "              precision    recall  f1-score   support\n",
      "\n",
      "           0       0.98      0.97      0.98      2393\n",
      "           1       0.97      0.98      0.98      2563\n",
      "\n",
      "    accuracy                           0.98      4956\n",
      "   macro avg       0.98      0.98      0.98      4956\n",
      "weighted avg       0.98      0.98      0.98      4956\n",
      "\n",
      "Epoch: 50, loss: 2.89720406383276\n",
      "Epoch: 51, loss: 2.98227770999074\n",
      "Epoch: 52, loss: 2.8715547136962414\n",
      "Epoch: 53, loss: 2.796779567375779\n",
      "Epoch: 54, loss: 2.7423317534849048\n",
      "Epoch: 55, loss: 2.680246165022254\n",
      "Epoch: 56, loss: 2.6975229252129793\n",
      "Epoch: 57, loss: 2.5581139074638486\n",
      "Epoch: 58, loss: 2.6505807880312204\n",
      "Epoch: 59, loss: 2.6368736810982227\n",
      "              precision    recall  f1-score   support\n",
      "\n",
      "           0       0.98      0.97      0.98      2393\n",
      "           1       0.97      0.98      0.98      2563\n",
      "\n",
      "    accuracy                           0.98      4956\n",
      "   macro avg       0.98      0.98      0.98      4956\n",
      "weighted avg       0.98      0.98      0.98      4956\n",
      "\n",
      "Epoch: 60, loss: 2.6734315725043416\n",
      "Epoch: 61, loss: 2.5719745801761746\n",
      "Epoch: 62, loss: 2.474315711297095\n",
      "Epoch: 63, loss: 2.450511113740504\n",
      "Epoch: 64, loss: 2.43411280028522\n",
      "Epoch: 65, loss: 2.4269280126318336\n",
      "Epoch: 66, loss: 2.3843184281140566\n",
      "Epoch: 67, loss: 2.308397795073688\n",
      "Epoch: 68, loss: 2.332233319990337\n",
      "Epoch: 69, loss: 2.3856405038386583\n",
      "              precision    recall  f1-score   support\n",
      "\n",
      "           0       0.98      0.97      0.98      2393\n",
      "           1       0.98      0.98      0.98      2563\n",
      "\n",
      "    accuracy                           0.98      4956\n",
      "   macro avg       0.98      0.98      0.98      4956\n",
      "weighted avg       0.98      0.98      0.98      4956\n",
      "\n",
      "Epoch: 70, loss: 2.4107315158471465\n",
      "Epoch: 71, loss: 2.301127943210304\n",
      "Epoch: 72, loss: 2.2869118405506015\n",
      "Epoch: 73, loss: 2.1709765065461397\n",
      "Epoch: 74, loss: 2.2742020590230823\n",
      "Epoch: 75, loss: 2.2460808185860515\n",
      "Epoch: 76, loss: 2.246087711304426\n",
      "Epoch: 77, loss: 2.199984209612012\n",
      "Epoch: 78, loss: 2.1638690130785108\n",
      "Epoch: 79, loss: 2.1291483528912067\n",
      "              precision    recall  f1-score   support\n",
      "\n",
      "           0       0.98      0.98      0.98      2393\n",
      "           1       0.98      0.98      0.98      2563\n",
      "\n",
      "    accuracy                           0.98      4956\n",
      "   macro avg       0.98      0.98      0.98      4956\n",
      "weighted avg       0.98      0.98      0.98      4956\n",
      "\n",
      "Epoch: 80, loss: 2.0727903246879578\n",
      "Epoch: 81, loss: 2.075478443875909\n",
      "Epoch: 82, loss: 2.0740241119638085\n",
      "Epoch: 83, loss: 2.1834898460656404\n",
      "Epoch: 84, loss: 2.088981481269002\n",
      "Epoch: 85, loss: 2.127284212037921\n",
      "Epoch: 86, loss: 1.9641139088198543\n",
      "Epoch: 87, loss: 2.0449348082765937\n",
      "Epoch: 88, loss: 2.0177455032244325\n",
      "Epoch: 89, loss: 2.029320890083909\n",
      "              precision    recall  f1-score   support\n",
      "\n",
      "           0       0.98      0.97      0.97      2393\n",
      "           1       0.97      0.98      0.98      2563\n",
      "\n",
      "    accuracy                           0.97      4956\n",
      "   macro avg       0.97      0.97      0.97      4956\n",
      "weighted avg       0.97      0.97      0.97      4956\n",
      "\n",
      "Epoch: 90, loss: 1.9938358841463923\n",
      "Epoch: 91, loss: 2.084717999212444\n",
      "Epoch: 92, loss: 2.050484805367887\n",
      "Epoch: 93, loss: 1.96915752440691\n",
      "Epoch: 94, loss: 1.9736113902181387\n",
      "Epoch: 95, loss: 2.0617331452667713\n",
      "Epoch: 96, loss: 1.9589410107582808\n",
      "Epoch: 97, loss: 2.0634154360741377\n",
      "Epoch: 98, loss: 1.983977010473609\n",
      "Epoch: 99, loss: 2.0296967988833785\n",
      "              precision    recall  f1-score   support\n",
      "\n",
      "           0       0.98      0.98      0.98      2393\n",
      "           1       0.98      0.98      0.98      2563\n",
      "\n",
      "    accuracy                           0.98      4956\n",
      "   macro avg       0.98      0.98      0.98      4956\n",
      "weighted avg       0.98      0.98      0.98      4956\n",
      "\n",
      "Epoch: 100, loss: 1.9479480311274529\n",
      "Epoch: 101, loss: 2.001310646533966\n",
      "Epoch: 102, loss: 2.0376160265877843\n",
      "Epoch: 103, loss: 1.9490189077332616\n",
      "Epoch: 104, loss: 1.9927325369790196\n",
      "Epoch: 105, loss: 1.920241973362863\n",
      "Epoch: 106, loss: 2.0086106937378645\n",
      "Epoch: 107, loss: 1.9735127547755837\n",
      "Epoch: 108, loss: 2.0089525543153286\n",
      "Epoch: 109, loss: 2.104787701740861\n",
      "              precision    recall  f1-score   support\n",
      "\n",
      "           0       0.98      0.97      0.98      2393\n",
      "           1       0.97      0.98      0.98      2563\n",
      "\n",
      "    accuracy                           0.98      4956\n",
      "   macro avg       0.98      0.98      0.98      4956\n",
      "weighted avg       0.98      0.98      0.98      4956\n",
      "\n",
      "Epoch: 110, loss: 2.09030634816736\n",
      "Epoch: 111, loss: 1.9591450029984117\n",
      "Epoch: 112, loss: 2.0652619265019894\n",
      "Epoch: 113, loss: 1.942381413653493\n",
      "Epoch: 114, loss: 1.9436449082568288\n",
      "Epoch: 115, loss: 1.8770687840878963\n",
      "Epoch: 116, loss: 1.9347278447821736\n",
      "Epoch: 117, loss: 2.116417007520795\n",
      "Epoch: 118, loss: 2.0798445446416736\n",
      "Epoch: 119, loss: 1.9918174715712667\n",
      "              precision    recall  f1-score   support\n",
      "\n",
      "           0       0.98      0.97      0.97      2393\n",
      "           1       0.97      0.98      0.98      2563\n",
      "\n",
      "    accuracy                           0.97      4956\n",
      "   macro avg       0.97      0.97      0.97      4956\n",
      "weighted avg       0.97      0.97      0.97      4956\n",
      "\n",
      "Epoch: 120, loss: 2.0098868468776345\n"
     ]
    },
    {
     "name": "stdout",
     "output_type": "stream",
     "text": [
      "Epoch: 121, loss: 2.0133905755355954\n",
      "Epoch: 122, loss: 1.8828528923913836\n",
      "Epoch: 123, loss: 1.947653884999454\n",
      "Epoch: 124, loss: 1.9419265063479543\n",
      "Epoch: 125, loss: 1.977925030514598\n",
      "Epoch: 126, loss: 1.8623382169753313\n",
      "Epoch: 127, loss: 1.9229771234095097\n",
      "Epoch: 128, loss: 1.9168511163443327\n",
      "Epoch: 129, loss: 1.8665386186912656\n",
      "              precision    recall  f1-score   support\n",
      "\n",
      "           0       0.98      0.97      0.98      2393\n",
      "           1       0.98      0.98      0.98      2563\n",
      "\n",
      "    accuracy                           0.98      4956\n",
      "   macro avg       0.98      0.98      0.98      4956\n",
      "weighted avg       0.98      0.98      0.98      4956\n",
      "\n",
      "Epoch: 130, loss: 1.8822525953873992\n",
      "Epoch: 131, loss: 1.8426471445709467\n",
      "Epoch: 132, loss: 1.9091075165197253\n",
      "Epoch: 133, loss: 1.9106288440525532\n",
      "Epoch: 134, loss: 1.8911975491791964\n",
      "Epoch: 135, loss: 1.951164540834725\n",
      "Epoch: 136, loss: 1.771416218020022\n",
      "Epoch: 137, loss: 1.8318699644878507\n",
      "Epoch: 138, loss: 1.8393025863915682\n",
      "Epoch: 139, loss: 1.8217806089669466\n",
      "              precision    recall  f1-score   support\n",
      "\n",
      "           0       0.98      0.98      0.98      2393\n",
      "           1       0.98      0.98      0.98      2563\n",
      "\n",
      "    accuracy                           0.98      4956\n",
      "   macro avg       0.98      0.98      0.98      4956\n",
      "weighted avg       0.98      0.98      0.98      4956\n",
      "\n",
      "Epoch: 140, loss: 1.8978845654055476\n",
      "Epoch: 141, loss: 1.7911507077515125\n",
      "Epoch: 142, loss: 1.9431635402143002\n",
      "Epoch: 143, loss: 1.9181336052715778\n",
      "Epoch: 144, loss: 1.8691893965005875\n",
      "Epoch: 145, loss: 1.7735789734870195\n",
      "Epoch: 146, loss: 1.78744250908494\n",
      "Epoch: 147, loss: 1.7140233227983117\n",
      "Epoch: 148, loss: 1.7516206372529268\n",
      "Epoch: 149, loss: 1.7430344382300973\n",
      "              precision    recall  f1-score   support\n",
      "\n",
      "           0       0.98      0.97      0.97      2393\n",
      "           1       0.97      0.98      0.98      2563\n",
      "\n",
      "    accuracy                           0.97      4956\n",
      "   macro avg       0.98      0.97      0.97      4956\n",
      "weighted avg       0.97      0.97      0.97      4956\n",
      "\n"
     ]
    },
    {
     "data": {
      "text/plain": [
       "ClassificationHead(\n",
       "  (lin1): Linear(in_features=100, out_features=76, bias=True)\n",
       "  (bn1): BatchNorm1d(76, eps=1e-05, momentum=0.1, affine=True, track_running_stats=True)\n",
       "  (lin2): Linear(in_features=76, out_features=50, bias=True)\n",
       "  (bn2): BatchNorm1d(50, eps=1e-05, momentum=0.1, affine=True, track_running_stats=True)\n",
       "  (lin3): Linear(in_features=50, out_features=2, bias=True)\n",
       ")"
      ]
     },
     "execution_count": 44,
     "metadata": {},
     "output_type": "execute_result"
    }
   ],
   "source": [
    "train(train_dataset, val_dataset, device=\"cpu\", Model=ClassificationHead, log_dir='logs/fc')"
   ]
  },
  {
   "cell_type": "code",
   "execution_count": 46,
   "metadata": {},
   "outputs": [],
   "source": [
    "class CNNSimple(nn.Module):\n",
    "    def __init__(self, shape=768, num_classes=2):\n",
    "        super().__init__()\n",
    "        self.conv1 = nn.Conv1d(in_channels=1, out_channels=4, kernel_size=3)\n",
    "        self.bn1 = nn.BatchNorm1d(4)\n",
    "        self.conv2 = nn.Conv1d(in_channels=4, out_channels=32, kernel_size=3)\n",
    "        self.bn2 = nn.BatchNorm1d(32)\n",
    "        self.pool = nn.AdaptiveMaxPool1d(32)\n",
    "        self.linear = nn.Linear(3072, num_classes)\n",
    "    \n",
    "    def forward(self, x):\n",
    "        x = x.view(x.shape[0], 1, x.shape[1])\n",
    "        x = F.relu(self.conv1(x))\n",
    "        x = self.bn1(x)\n",
    "        x = F.relu(self.conv2(x))\n",
    "        x = self.bn2(x)\n",
    "        x = x.flatten(start_dim=1)\n",
    "        x = self.linear(x)\n",
    "        return x"
   ]
  },
  {
   "cell_type": "code",
   "execution_count": 48,
   "metadata": {},
   "outputs": [
    {
     "name": "stdout",
     "output_type": "stream",
     "text": [
      "Epoch: 0, loss: 13.419572345912457\n",
      "Epoch: 1, loss: 8.492567971348763\n",
      "Epoch: 2, loss: 7.958246551454067\n",
      "Epoch: 3, loss: 7.636468011885881\n",
      "Epoch: 4, loss: 7.446619540452957\n",
      "Epoch: 5, loss: 7.275376468896866\n",
      "Epoch: 6, loss: 7.174264386296272\n",
      "Epoch: 7, loss: 7.0227404572069645\n",
      "Epoch: 8, loss: 6.973404984921217\n",
      "Epoch: 9, loss: 6.835667390376329\n",
      "              precision    recall  f1-score   support\n",
      "\n",
      "           0       0.97      0.97      0.97      2393\n",
      "           1       0.97      0.97      0.97      2563\n",
      "\n",
      "    accuracy                           0.97      4956\n",
      "   macro avg       0.97      0.97      0.97      4956\n",
      "weighted avg       0.97      0.97      0.97      4956\n",
      "\n",
      "Epoch: 10, loss: 6.743496011942625\n",
      "Epoch: 11, loss: 6.6752699464559555\n",
      "Epoch: 12, loss: 6.611814117059112\n",
      "Epoch: 13, loss: 6.542102098464966\n",
      "Epoch: 14, loss: 6.489353623241186\n",
      "Epoch: 15, loss: 6.429045747965574\n",
      "Epoch: 16, loss: 6.3718046471476555\n",
      "Epoch: 17, loss: 6.354019321501255\n",
      "Epoch: 18, loss: 6.327311251312494\n",
      "Epoch: 19, loss: 6.231110844761133\n",
      "              precision    recall  f1-score   support\n",
      "\n",
      "           0       0.97      0.98      0.97      2393\n",
      "           1       0.98      0.97      0.97      2563\n",
      "\n",
      "    accuracy                           0.97      4956\n",
      "   macro avg       0.97      0.97      0.97      4956\n",
      "weighted avg       0.97      0.97      0.97      4956\n",
      "\n",
      "Epoch: 20, loss: 6.2245569955557585\n",
      "Epoch: 21, loss: 6.2065322026610374\n",
      "Epoch: 22, loss: 6.107836287468672\n",
      "Epoch: 23, loss: 6.109038656577468\n",
      "Epoch: 24, loss: 6.0565634071826935\n",
      "Epoch: 25, loss: 6.031595047563314\n",
      "Epoch: 26, loss: 6.001062501221895\n",
      "Epoch: 27, loss: 5.960282668471336\n",
      "Epoch: 28, loss: 5.912629820406437\n",
      "Epoch: 29, loss: 5.889119498431683\n",
      "              precision    recall  f1-score   support\n",
      "\n",
      "           0       0.97      0.97      0.97      2393\n",
      "           1       0.97      0.98      0.97      2563\n",
      "\n",
      "    accuracy                           0.97      4956\n",
      "   macro avg       0.97      0.97      0.97      4956\n",
      "weighted avg       0.97      0.97      0.97      4956\n",
      "\n",
      "Epoch: 30, loss: 5.935039632022381\n",
      "Epoch: 31, loss: 5.8600017465651035\n",
      "Epoch: 32, loss: 5.823799334466457\n",
      "Epoch: 33, loss: 5.786125183105469\n",
      "Epoch: 34, loss: 5.743640702217817\n",
      "Epoch: 35, loss: 5.76402984932065\n",
      "Epoch: 36, loss: 5.722707565873861\n",
      "Epoch: 37, loss: 5.7361804731190205\n",
      "Epoch: 38, loss: 5.6788599118590355\n",
      "Epoch: 39, loss: 5.6488786693662405\n",
      "              precision    recall  f1-score   support\n",
      "\n",
      "           0       0.97      0.97      0.97      2393\n",
      "           1       0.97      0.98      0.97      2563\n",
      "\n",
      "    accuracy                           0.97      4956\n",
      "   macro avg       0.97      0.97      0.97      4956\n",
      "weighted avg       0.97      0.97      0.97      4956\n",
      "\n",
      "Epoch: 40, loss: 5.668446313589811\n",
      "Epoch: 41, loss: 5.594833159819245\n",
      "Epoch: 42, loss: 5.6144130155444145\n",
      "Epoch: 43, loss: 5.593266569077969\n",
      "Epoch: 44, loss: 5.553081594407558\n",
      "Epoch: 45, loss: 5.595085136592388\n",
      "Epoch: 46, loss: 5.543950589373708\n",
      "Epoch: 47, loss: 5.5419488698244095\n",
      "Epoch: 48, loss: 5.5153701938688755\n",
      "Epoch: 49, loss: 5.525226524099708\n",
      "              precision    recall  f1-score   support\n",
      "\n",
      "           0       0.97      0.98      0.97      2393\n",
      "           1       0.98      0.97      0.97      2563\n",
      "\n",
      "    accuracy                           0.97      4956\n",
      "   macro avg       0.97      0.97      0.97      4956\n",
      "weighted avg       0.97      0.97      0.97      4956\n",
      "\n",
      "Epoch: 50, loss: 5.54300207644701\n",
      "Epoch: 51, loss: 5.5429363604635\n",
      "Epoch: 52, loss: 5.484261149540544\n",
      "Epoch: 53, loss: 5.469050200656056\n",
      "Epoch: 54, loss: 5.481053411960602\n",
      "Epoch: 55, loss: 5.484814185649157\n",
      "Epoch: 56, loss: 5.441996719688177\n",
      "Epoch: 57, loss: 5.4268654063344\n",
      "Epoch: 58, loss: 5.440995052456856\n",
      "Epoch: 59, loss: 5.412301987409592\n",
      "              precision    recall  f1-score   support\n",
      "\n",
      "           0       0.97      0.98      0.97      2393\n",
      "           1       0.98      0.97      0.97      2563\n",
      "\n",
      "    accuracy                           0.97      4956\n",
      "   macro avg       0.97      0.97      0.97      4956\n",
      "weighted avg       0.97      0.97      0.97      4956\n",
      "\n",
      "Epoch: 60, loss: 5.408675599843264\n",
      "Epoch: 61, loss: 5.408386472612619\n",
      "Epoch: 62, loss: 5.416748534888029\n",
      "Epoch: 63, loss: 5.4420457892119884\n",
      "Epoch: 64, loss: 5.414617605507374\n",
      "Epoch: 65, loss: 5.430609872564673\n",
      "Epoch: 66, loss: 5.443738613277674\n",
      "Epoch: 67, loss: 5.411355867981911\n",
      "Epoch: 68, loss: 5.379278054460883\n",
      "Epoch: 69, loss: 5.3720713686198\n",
      "              precision    recall  f1-score   support\n",
      "\n",
      "           0       0.97      0.98      0.97      2393\n",
      "           1       0.98      0.97      0.97      2563\n",
      "\n",
      "    accuracy                           0.97      4956\n",
      "   macro avg       0.97      0.97      0.97      4956\n",
      "weighted avg       0.97      0.97      0.97      4956\n",
      "\n",
      "Epoch: 70, loss: 5.417217992246151\n",
      "Epoch: 71, loss: 5.398523937910795\n",
      "Epoch: 72, loss: 5.387407224625349\n",
      "Epoch: 73, loss: 5.365442061796784\n",
      "Epoch: 74, loss: 5.383869431912899\n",
      "Epoch: 75, loss: 5.38134940341115\n",
      "Epoch: 76, loss: 5.371824622154236\n",
      "Epoch: 77, loss: 5.395186115056276\n",
      "Epoch: 78, loss: 5.408477868884802\n",
      "Epoch: 79, loss: 5.403626529499888\n",
      "              precision    recall  f1-score   support\n",
      "\n",
      "           0       0.97      0.97      0.97      2393\n",
      "           1       0.98      0.97      0.98      2563\n",
      "\n",
      "    accuracy                           0.97      4956\n",
      "   macro avg       0.97      0.97      0.97      4956\n",
      "weighted avg       0.97      0.97      0.97      4956\n",
      "\n",
      "Epoch: 80, loss: 5.35927589610219\n",
      "Epoch: 81, loss: 5.421952094882727\n",
      "Epoch: 82, loss: 5.381633449345827\n",
      "Epoch: 83, loss: 5.433474414050579\n",
      "Epoch: 84, loss: 5.375408537685871\n",
      "Epoch: 85, loss: 5.383190121501684\n",
      "Epoch: 86, loss: 5.440464250743389\n",
      "Epoch: 87, loss: 5.378503832966089\n",
      "Epoch: 88, loss: 5.453365685418248\n",
      "Epoch: 89, loss: 5.393395077437162\n",
      "              precision    recall  f1-score   support\n",
      "\n",
      "           0       0.97      0.97      0.97      2393\n",
      "           1       0.98      0.97      0.98      2563\n",
      "\n",
      "    accuracy                           0.97      4956\n",
      "   macro avg       0.97      0.97      0.97      4956\n",
      "weighted avg       0.97      0.97      0.97      4956\n",
      "\n",
      "Epoch: 90, loss: 5.3901865519583225\n",
      "Epoch: 91, loss: 5.412183184176683\n",
      "Epoch: 92, loss: 5.414279822260141\n",
      "Epoch: 93, loss: 5.461253674700856\n",
      "Epoch: 94, loss: 5.432896107435226\n",
      "Epoch: 95, loss: 5.441810227930546\n",
      "Epoch: 96, loss: 5.41965108923614\n",
      "Epoch: 97, loss: 5.435402005910873\n",
      "Epoch: 98, loss: 5.423870351165533\n",
      "Epoch: 99, loss: 5.525971315801144\n",
      "              precision    recall  f1-score   support\n",
      "\n",
      "           0       0.97      0.97      0.97      2393\n",
      "           1       0.98      0.98      0.98      2563\n",
      "\n",
      "    accuracy                           0.97      4956\n",
      "   macro avg       0.97      0.97      0.97      4956\n",
      "weighted avg       0.97      0.97      0.97      4956\n",
      "\n",
      "Epoch: 100, loss: 5.45368542522192\n",
      "Epoch: 101, loss: 5.4645438157022\n",
      "Epoch: 102, loss: 5.466774024069309\n",
      "Epoch: 103, loss: 5.468140196055174\n",
      "Epoch: 104, loss: 5.456513416022062\n",
      "Epoch: 105, loss: 5.45001183077693\n",
      "Epoch: 106, loss: 5.469374826177955\n",
      "Epoch: 107, loss: 5.494925893843174\n",
      "Epoch: 108, loss: 5.572817288339138\n",
      "Epoch: 109, loss: 5.498619645833969\n",
      "              precision    recall  f1-score   support\n",
      "\n",
      "           0       0.97      0.97      0.97      2393\n",
      "           1       0.98      0.97      0.97      2563\n",
      "\n",
      "    accuracy                           0.97      4956\n",
      "   macro avg       0.97      0.97      0.97      4956\n",
      "weighted avg       0.97      0.97      0.97      4956\n",
      "\n",
      "Epoch: 110, loss: 5.482976857572794\n",
      "Epoch: 111, loss: 5.491917505860329\n",
      "Epoch: 112, loss: 5.487459599971771\n",
      "Epoch: 113, loss: 5.47611247934401\n",
      "Epoch: 114, loss: 5.496432028710842\n",
      "Epoch: 115, loss: 5.507640860974789\n",
      "Epoch: 116, loss: 5.501330215483904\n",
      "Epoch: 117, loss: 5.5263070818036795\n",
      "Epoch: 118, loss: 5.555283447727561\n",
      "Epoch: 119, loss: 5.500240966677666\n",
      "              precision    recall  f1-score   support\n",
      "\n",
      "           0       0.97      0.97      0.97      2393\n",
      "           1       0.98      0.97      0.97      2563\n",
      "\n",
      "    accuracy                           0.97      4956\n",
      "   macro avg       0.97      0.97      0.97      4956\n",
      "weighted avg       0.97      0.97      0.97      4956\n",
      "\n",
      "Epoch: 120, loss: 5.563086662441492\n",
      "Epoch: 121, loss: 5.500012326985598\n"
     ]
    },
    {
     "name": "stdout",
     "output_type": "stream",
     "text": [
      "Epoch: 122, loss: 5.5592193976044655\n",
      "Epoch: 123, loss: 5.5158829893916845\n",
      "Epoch: 124, loss: 5.524767443537712\n",
      "Epoch: 125, loss: 5.5409882850945\n",
      "Epoch: 126, loss: 5.549423713237047\n",
      "Epoch: 127, loss: 5.523346979171038\n",
      "Epoch: 128, loss: 5.548411039635539\n",
      "Epoch: 129, loss: 5.515713106840849\n",
      "              precision    recall  f1-score   support\n",
      "\n",
      "           0       0.97      0.97      0.97      2393\n",
      "           1       0.98      0.98      0.98      2563\n",
      "\n",
      "    accuracy                           0.97      4956\n",
      "   macro avg       0.97      0.97      0.97      4956\n",
      "weighted avg       0.97      0.97      0.97      4956\n",
      "\n",
      "Epoch: 130, loss: 5.54141465947032\n",
      "Epoch: 131, loss: 5.552388995885849\n",
      "Epoch: 132, loss: 5.5611870512366295\n",
      "Epoch: 133, loss: 5.5240500420331955\n",
      "Epoch: 134, loss: 5.54734180867672\n",
      "Epoch: 135, loss: 5.557878900319338\n",
      "Epoch: 136, loss: 5.547434829175472\n",
      "Epoch: 137, loss: 5.562566509470344\n",
      "Epoch: 138, loss: 5.579606145620346\n",
      "Epoch: 139, loss: 5.573722183704376\n",
      "              precision    recall  f1-score   support\n",
      "\n",
      "           0       0.97      0.97      0.97      2393\n",
      "           1       0.97      0.97      0.97      2563\n",
      "\n",
      "    accuracy                           0.97      4956\n",
      "   macro avg       0.97      0.97      0.97      4956\n",
      "weighted avg       0.97      0.97      0.97      4956\n",
      "\n",
      "Epoch: 140, loss: 5.564547799527645\n",
      "Epoch: 141, loss: 5.54055143147707\n",
      "Epoch: 142, loss: 5.577244970947504\n",
      "Epoch: 143, loss: 5.572001237422228\n",
      "Epoch: 144, loss: 5.6037570014595985\n",
      "Epoch: 145, loss: 5.556288458406925\n",
      "Epoch: 146, loss: 5.574535746127367\n",
      "Epoch: 147, loss: 5.555931255221367\n",
      "Epoch: 148, loss: 5.5859452821314335\n",
      "Epoch: 149, loss: 5.634667556732893\n",
      "              precision    recall  f1-score   support\n",
      "\n",
      "           0       0.97      0.97      0.97      2393\n",
      "           1       0.98      0.98      0.98      2563\n",
      "\n",
      "    accuracy                           0.97      4956\n",
      "   macro avg       0.97      0.97      0.97      4956\n",
      "weighted avg       0.97      0.97      0.97      4956\n",
      "\n"
     ]
    },
    {
     "data": {
      "text/plain": [
       "CNNSimple(\n",
       "  (conv1): Conv1d(1, 4, kernel_size=(3,), stride=(1,))\n",
       "  (bn1): BatchNorm1d(4, eps=1e-05, momentum=0.1, affine=True, track_running_stats=True)\n",
       "  (conv2): Conv1d(4, 32, kernel_size=(3,), stride=(1,))\n",
       "  (bn2): BatchNorm1d(32, eps=1e-05, momentum=0.1, affine=True, track_running_stats=True)\n",
       "  (pool): AdaptiveMaxPool1d(output_size=32)\n",
       "  (linear): Linear(in_features=3072, out_features=2, bias=True)\n",
       ")"
      ]
     },
     "execution_count": 48,
     "metadata": {},
     "output_type": "execute_result"
    }
   ],
   "source": [
    "train(train_dataset, val_dataset, device=\"cpu\", Model=CNNSimple, log_dir='logs/cnn')"
   ]
  },
  {
   "cell_type": "code",
   "execution_count": 45,
   "metadata": {},
   "outputs": [
    {
     "data": {
      "text/html": [
       "\n",
       "      <iframe id=\"tensorboard-frame-3e7b9c1f0dbb8c47\" width=\"100%\" height=\"800\" frameborder=\"0\">\n",
       "      </iframe>\n",
       "      <script>\n",
       "        (function() {\n",
       "          const frame = document.getElementById(\"tensorboard-frame-3e7b9c1f0dbb8c47\");\n",
       "          const url = new URL(\"/\", window.location);\n",
       "          const port = 6112;\n",
       "          if (port) {\n",
       "            url.port = port;\n",
       "          }\n",
       "          frame.src = url;\n",
       "        })();\n",
       "      </script>\n",
       "    "
      ],
      "text/plain": [
       "<IPython.core.display.HTML object>"
      ]
     },
     "metadata": {},
     "output_type": "display_data"
    }
   ],
   "source": [
    "%tensorboard --logdir logs --port 6112"
   ]
  },
  {
   "cell_type": "markdown",
   "metadata": {},
   "source": [
    "# Conclusion\n",
    "\n",
    "We trained a lot of classical algorithms and CNN and Linear neural networks. With help of cross validation and grid search we achieved high accuracy perfomance on SVM.The most accurate algorithm turn out to be Linear NN with f1 score = 98%. We also computed some statistics and presented tensorboard graphics\n",
    "\n"
   ]
  }
 ],
 "metadata": {
  "kernelspec": {
   "display_name": "Python 3",
   "language": "python",
   "name": "python3"
  },
  "language_info": {
   "codemirror_mode": {
    "name": "ipython",
    "version": 3
   },
   "file_extension": ".py",
   "mimetype": "text/x-python",
   "name": "python",
   "nbconvert_exporter": "python",
   "pygments_lexer": "ipython3",
   "version": "3.6.9"
  }
 },
 "nbformat": 4,
 "nbformat_minor": 1
}
